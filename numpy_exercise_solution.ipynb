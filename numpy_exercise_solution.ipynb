{
 "cells": [
  {
   "cell_type": "markdown",
   "id": "284b5bf3",
   "metadata": {},
   "source": [
    "<h3 align=\"center\" style=\"color:blue\">Codebasics Python Course: Numpy Exercise</h3>"
   ]
  },
  {
   "cell_type": "markdown",
   "id": "869972b3",
   "metadata": {},
   "source": [
    "Below two numpy arrays are given with following columns. \n",
    "\n",
    "* Employee Details (1) Employee ID (2) Department (3) Salary\n",
    "* Performance Metrics (1) Employee ID (2) Performance Score (out of 100) (3) Number of Projects Completed\n",
    "\n",
    "Using these two arrays you need to complete set of tasks which are given in the notebook cells (along with hints)"
   ]
  },
  {
   "cell_type": "code",
   "execution_count": 2,
   "id": "5e21acc8",
   "metadata": {},
   "outputs": [],
   "source": [
    "import numpy as np\n",
    "\n",
    "# Employee Details (1) Employee ID (2) Department (3) Salary\n",
    "employee_details = np.array([\n",
    "    [101, 'Sales', 55000, 'Satya Nadella'],  \n",
    "    [102, 'HR', 52000, 'Emily Johnson'],    \n",
    "    [103, 'IT', 72000, 'Fatima Razaak'],        \n",
    "    [104, 'Sales', 60000, 'John Smith'],    \n",
    "    [105, 'IT', 68000, 'Priya Singh'],      \n",
    "    [106, 'HR', 54000, 'Li Wei'],           \n",
    "    [107, 'IT', 71000, 'Michael Brown'],    \n",
    "    [108, 'Sales', 59000, 'Sunita Sharma'], \n",
    "    [109, 'HR', 53000, 'Chen Wei']          \n",
    "])\n",
    "\n",
    "# Performance Metrics (1) Employee ID (2) Performance Score (out of 100) (3) Number of Projects Completed\n",
    "performance_metrics = np.array([\n",
    "    [101, 85, 5],\n",
    "    [102, 78, 3],\n",
    "    [103, 92, 7],\n",
    "    [104, 88, 6],\n",
    "    [105, 79, 4],\n",
    "    [106, 81, 5],\n",
    "    [107, 91, 8],\n",
    "    [108, 77, 4],\n",
    "    [109, 83, 4]\n",
    "])"
   ]
  },
  {
   "cell_type": "markdown",
   "id": "b6a01eab",
   "metadata": {},
   "source": [
    "### Task 1: Merge above two numpy arrays using np.hstack"
   ]
  },
  {
   "cell_type": "code",
   "execution_count": 3,
   "id": "16f6db7c",
   "metadata": {},
   "outputs": [
    {
     "data": {
      "text/plain": [
       "array([['101', 'Sales', '55000', 'Satya Nadella', '101', '85', '5'],\n",
       "       ['102', 'HR', '52000', 'Emily Johnson', '102', '78', '3'],\n",
       "       ['103', 'IT', '72000', 'Fatima Razaak', '103', '92', '7'],\n",
       "       ['104', 'Sales', '60000', 'John Smith', '104', '88', '6'],\n",
       "       ['105', 'IT', '68000', 'Priya Singh', '105', '79', '4'],\n",
       "       ['106', 'HR', '54000', 'Li Wei', '106', '81', '5'],\n",
       "       ['107', 'IT', '71000', 'Michael Brown', '107', '91', '8'],\n",
       "       ['108', 'Sales', '59000', 'Sunita Sharma', '108', '77', '4'],\n",
       "       ['109', 'HR', '53000', 'Chen Wei', '109', '83', '4']], dtype='<U13')"
      ]
     },
     "execution_count": 3,
     "metadata": {},
     "output_type": "execute_result"
    }
   ],
   "source": [
    "merged = np.hstack((employee_details, performance_metrics))\n",
    "merged"
   ]
  },
  {
   "cell_type": "markdown",
   "id": "48658454",
   "metadata": {},
   "source": [
    "### Task 2: Print All the Salaries"
   ]
  },
  {
   "cell_type": "code",
   "execution_count": 4,
   "id": "13c794b9",
   "metadata": {
    "scrolled": false
   },
   "outputs": [
    {
     "data": {
      "text/plain": [
       "array(['55000', '52000', '72000', '60000', '68000', '54000', '71000',\n",
       "       '59000', '53000'], dtype='<U13')"
      ]
     },
     "execution_count": 4,
     "metadata": {},
     "output_type": "execute_result"
    }
   ],
   "source": [
    "merged[:,2]"
   ]
  },
  {
   "cell_type": "markdown",
   "id": "670a6137",
   "metadata": {},
   "source": [
    "### Task 3:  Print All the Salaries in Ascending Order"
   ]
  },
  {
   "cell_type": "code",
   "execution_count": 5,
   "id": "312d609e",
   "metadata": {
    "scrolled": true
   },
   "outputs": [
    {
     "data": {
      "text/plain": [
       "array(['52000', '53000', '54000', '55000', '59000', '60000', '68000',\n",
       "       '71000', '72000'], dtype='<U13')"
      ]
     },
     "execution_count": 5,
     "metadata": {},
     "output_type": "execute_result"
    }
   ],
   "source": [
    "np.sort(merged[:,2])"
   ]
  },
  {
   "cell_type": "markdown",
   "id": "830f32d5",
   "metadata": {},
   "source": [
    "### Task 4:  Iterate through entire array and print only employee id and name"
   ]
  },
  {
   "cell_type": "code",
   "execution_count": 6,
   "id": "909b9698",
   "metadata": {
    "scrolled": false
   },
   "outputs": [
    {
     "name": "stdout",
     "output_type": "stream",
     "text": [
      "ID: 101, Name: Satya Nadella\n",
      "ID: 102, Name: Emily Johnson\n",
      "ID: 103, Name: Fatima Razaak\n",
      "ID: 104, Name: John Smith\n",
      "ID: 105, Name: Priya Singh\n",
      "ID: 106, Name: Li Wei\n",
      "ID: 107, Name: Michael Brown\n",
      "ID: 108, Name: Sunita Sharma\n",
      "ID: 109, Name: Chen Wei\n"
     ]
    }
   ],
   "source": [
    "for row in merged:\n",
    "    print(f'ID: {row[0]}, Name: {row[3]}')"
   ]
  },
  {
   "cell_type": "markdown",
   "id": "b9cd00e5",
   "metadata": {},
   "source": [
    "### Task 5: Print performance score of all the employees"
   ]
  },
  {
   "cell_type": "code",
   "execution_count": 7,
   "id": "e9cec00a",
   "metadata": {},
   "outputs": [
    {
     "data": {
      "text/plain": [
       "array(['85', '78', '92', '88', '79', '81', '91', '77', '83'], dtype='<U13')"
      ]
     },
     "execution_count": 7,
     "metadata": {},
     "output_type": "execute_result"
    }
   ],
   "source": [
    "# First print all the performance scores\n",
    "merged[:,5]"
   ]
  },
  {
   "cell_type": "markdown",
   "id": "1a441890",
   "metadata": {},
   "source": [
    "### Task 6: Convert these scores to float type by using astype(float) function"
   ]
  },
  {
   "cell_type": "code",
   "execution_count": 8,
   "id": "7a0019df",
   "metadata": {},
   "outputs": [
    {
     "data": {
      "text/plain": [
       "array([85., 78., 92., 88., 79., 81., 91., 77., 83.])"
      ]
     },
     "execution_count": 8,
     "metadata": {},
     "output_type": "execute_result"
    }
   ],
   "source": [
    "merged[:,5].astype(float)"
   ]
  },
  {
   "cell_type": "markdown",
   "id": "050d0302",
   "metadata": {},
   "source": [
    "### Task 7:  Now print the average performance score of all the employees"
   ]
  },
  {
   "cell_type": "code",
   "execution_count": 9,
   "id": "0999e743",
   "metadata": {},
   "outputs": [
    {
     "data": {
      "text/plain": [
       "83.77777777777777"
      ]
     },
     "execution_count": 9,
     "metadata": {},
     "output_type": "execute_result"
    }
   ],
   "source": [
    "np.mean(merged[:, 5].astype(float))"
   ]
  },
  {
   "cell_type": "markdown",
   "id": "e81fed6e",
   "metadata": {},
   "source": [
    "### Task 8:  Print all the unique departments. You can use np.unique function for this"
   ]
  },
  {
   "cell_type": "code",
   "execution_count": 10,
   "id": "d0c9595d",
   "metadata": {},
   "outputs": [
    {
     "data": {
      "text/plain": [
       "array(['Sales', 'HR', 'IT', 'Sales', 'IT', 'HR', 'IT', 'Sales', 'HR'],\n",
       "      dtype='<U13')"
      ]
     },
     "execution_count": 10,
     "metadata": {},
     "output_type": "execute_result"
    }
   ],
   "source": [
    "# first print departments from all the records\n",
    "merged[:,1]"
   ]
  },
  {
   "cell_type": "code",
   "execution_count": 11,
   "id": "f05a0c01",
   "metadata": {},
   "outputs": [
    {
     "data": {
      "text/plain": [
       "array(['HR', 'IT', 'Sales'], dtype='<U13')"
      ]
     },
     "execution_count": 11,
     "metadata": {},
     "output_type": "execute_result"
    }
   ],
   "source": [
    "# now print unique departments\n",
    "np.unique(merged[:,1])"
   ]
  },
  {
   "cell_type": "markdown",
   "id": "f2d20762",
   "metadata": {},
   "source": [
    "### Task 9:  Print average salary in HR department"
   ]
  },
  {
   "cell_type": "code",
   "execution_count": 13,
   "id": "d4ea9ce8",
   "metadata": {},
   "outputs": [
    {
     "data": {
      "text/plain": [
       "array([['102', 'HR', '52000', 'Emily Johnson', '102', '78', '3'],\n",
       "       ['106', 'HR', '54000', 'Li Wei', '106', '81', '5'],\n",
       "       ['109', 'HR', '53000', 'Chen Wei', '109', '83', '4']], dtype='<U13')"
      ]
     },
     "execution_count": 13,
     "metadata": {},
     "output_type": "execute_result"
    }
   ],
   "source": [
    "# First print all the records for HR department\n",
    "merged[merged[:,1]=='HR']"
   ]
  },
  {
   "cell_type": "code",
   "execution_count": 15,
   "id": "45955f54",
   "metadata": {},
   "outputs": [
    {
     "data": {
      "text/plain": [
       "array([52000., 54000., 53000.])"
      ]
     },
     "execution_count": 15,
     "metadata": {},
     "output_type": "execute_result"
    }
   ],
   "source": [
    "merged[merged[:,1]=='HR'][:,2].astype(float)"
   ]
  },
  {
   "cell_type": "code",
   "execution_count": 16,
   "id": "02f9497b",
   "metadata": {},
   "outputs": [
    {
     "data": {
      "text/plain": [
       "53000.0"
      ]
     },
     "execution_count": 16,
     "metadata": {},
     "output_type": "execute_result"
    }
   ],
   "source": [
    "np.average(merged[merged[:,1]=='HR'][:,2].astype(float))"
   ]
  }
 ],
 "metadata": {
  "kernelspec": {
   "display_name": "Python 3 (ipykernel)",
   "language": "python",
   "name": "python3"
  },
  "language_info": {
   "codemirror_mode": {
    "name": "ipython",
    "version": 3
   },
   "file_extension": ".py",
   "mimetype": "text/x-python",
   "name": "python",
   "nbconvert_exporter": "python",
   "pygments_lexer": "ipython3",
   "version": "3.10.11"
  }
 },
 "nbformat": 4,
 "nbformat_minor": 5
}
