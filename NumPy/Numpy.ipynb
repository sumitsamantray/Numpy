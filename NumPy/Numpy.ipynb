{
 "cells": [
  {
   "cell_type": "code",
   "execution_count": 1,
   "id": "931be0df-bae7-4aec-a230-8a14d0fb2f85",
   "metadata": {},
   "outputs": [],
   "source": [
    "import numpy as np\n",
    "\n",
    "# Employee Details (1) Employee ID (2) Department (3) Salary\n",
    "employee_details = np.array([\n",
    "    [101, 'Sales', 55000, 'Satya Nadella'],  \n",
    "    [102, 'HR', 52000, 'Emily Johnson'],    \n",
    "    [103, 'IT', 72000, 'Fatima Razaak'],        \n",
    "    [104, 'Sales', 60000, 'John Smith'],    \n",
    "    [105, 'IT', 68000, 'Priya Singh'],      \n",
    "    [106, 'HR', 54000, 'Li Wei'],           \n",
    "    [107, 'IT', 71000, 'Michael Brown'],    \n",
    "    [108, 'Sales', 59000, 'Sunita Sharma'], \n",
    "    [109, 'HR', 53000, 'Chen Wei']          \n",
    "])\n",
    "\n",
    "# Performance Metrics (1) Employee ID (2) Performance Score (out of 100) (3) Number of Projects Completed\n",
    "performance_metrics = np.array([\n",
    "    [101, 85, 5],\n",
    "    [102, 78, 3],\n",
    "    [103, 92, 7],\n",
    "    [104, 88, 6],\n",
    "    [105, 79, 4],\n",
    "    [106, 81, 5],\n",
    "    [107, 91, 8],\n",
    "    [108, 77, 4],\n",
    "    [109, 83, 4]\n",
    "])"
   ]
  },
  {
   "cell_type": "code",
   "execution_count": 9,
   "id": "e9ba99c8-6691-4e21-a084-c03c82f9c696",
   "metadata": {},
   "outputs": [],
   "source": [
    "# Task 1: Merge above two numpy arrays using np.hstack\n",
    "merged = np.hstack((employee_details,performance_metrics))"
   ]
  },
  {
   "cell_type": "code",
   "execution_count": 10,
   "id": "907ab3ae-148c-4007-be34-85d5430b9302",
   "metadata": {},
   "outputs": [
    {
     "data": {
      "text/plain": [
       "array([[101,  85,   5],\n",
       "       [102,  78,   3],\n",
       "       [103,  92,   7],\n",
       "       [104,  88,   6],\n",
       "       [105,  79,   4],\n",
       "       [106,  81,   5],\n",
       "       [107,  91,   8],\n",
       "       [108,  77,   4],\n",
       "       [109,  83,   4]])"
      ]
     },
     "execution_count": 10,
     "metadata": {},
     "output_type": "execute_result"
    }
   ],
   "source": [
    "performance_metrics"
   ]
  },
  {
   "cell_type": "code",
   "execution_count": 11,
   "id": "aefb756f-70ef-432d-9513-84f6cc64d030",
   "metadata": {},
   "outputs": [
    {
     "data": {
      "text/plain": [
       "array([['101', 'Sales', '55000', 'Satya Nadella'],\n",
       "       ['102', 'HR', '52000', 'Emily Johnson'],\n",
       "       ['103', 'IT', '72000', 'Fatima Razaak'],\n",
       "       ['104', 'Sales', '60000', 'John Smith'],\n",
       "       ['105', 'IT', '68000', 'Priya Singh'],\n",
       "       ['106', 'HR', '54000', 'Li Wei'],\n",
       "       ['107', 'IT', '71000', 'Michael Brown'],\n",
       "       ['108', 'Sales', '59000', 'Sunita Sharma'],\n",
       "       ['109', 'HR', '53000', 'Chen Wei']], dtype='<U13')"
      ]
     },
     "execution_count": 11,
     "metadata": {},
     "output_type": "execute_result"
    }
   ],
   "source": [
    "employee_details"
   ]
  },
  {
   "cell_type": "code",
   "execution_count": 12,
   "id": "1f3fceb8-bcf4-4e27-9a0b-fc90e346ac5b",
   "metadata": {},
   "outputs": [
    {
     "data": {
      "text/plain": [
       "array([['101', 'Sales', '55000', 'Satya Nadella', '101', '85', '5'],\n",
       "       ['102', 'HR', '52000', 'Emily Johnson', '102', '78', '3'],\n",
       "       ['103', 'IT', '72000', 'Fatima Razaak', '103', '92', '7'],\n",
       "       ['104', 'Sales', '60000', 'John Smith', '104', '88', '6'],\n",
       "       ['105', 'IT', '68000', 'Priya Singh', '105', '79', '4'],\n",
       "       ['106', 'HR', '54000', 'Li Wei', '106', '81', '5'],\n",
       "       ['107', 'IT', '71000', 'Michael Brown', '107', '91', '8'],\n",
       "       ['108', 'Sales', '59000', 'Sunita Sharma', '108', '77', '4'],\n",
       "       ['109', 'HR', '53000', 'Chen Wei', '109', '83', '4']], dtype='<U13')"
      ]
     },
     "execution_count": 12,
     "metadata": {},
     "output_type": "execute_result"
    }
   ],
   "source": [
    "merged"
   ]
  },
  {
   "cell_type": "code",
   "execution_count": 13,
   "id": "afef7457-0df8-45d6-b1f2-2b2353eb62ac",
   "metadata": {},
   "outputs": [
    {
     "data": {
      "text/plain": [
       "array(['55000', '52000', '72000', '60000', '68000', '54000', '71000',\n",
       "       '59000', '53000'], dtype='<U13')"
      ]
     },
     "execution_count": 13,
     "metadata": {},
     "output_type": "execute_result"
    }
   ],
   "source": [
    "# Task 2: Print All the Salaries\n",
    "merged[:,2]"
   ]
  },
  {
   "cell_type": "code",
   "execution_count": 14,
   "id": "464ef8b5-9036-4fb8-bc52-74bd20b07ca1",
   "metadata": {},
   "outputs": [
    {
     "data": {
      "text/plain": [
       "array(['52000', '53000', '54000', '55000', '59000', '60000', '68000',\n",
       "       '71000', '72000'], dtype='<U13')"
      ]
     },
     "execution_count": 14,
     "metadata": {},
     "output_type": "execute_result"
    }
   ],
   "source": [
    "# Task 3: Print All the Salaries in Ascending Order\n",
    "np.sort(merged[:,2])"
   ]
  },
  {
   "cell_type": "code",
   "execution_count": 17,
   "id": "81f10cee-2cc4-4e27-8b51-75634af09eb2",
   "metadata": {},
   "outputs": [
    {
     "name": "stdout",
     "output_type": "stream",
     "text": [
      "id: 101, Name: Satya Nadella\n",
      "id: 102, Name: Emily Johnson\n",
      "id: 103, Name: Fatima Razaak\n",
      "id: 104, Name: John Smith\n",
      "id: 105, Name: Priya Singh\n",
      "id: 106, Name: Li Wei\n",
      "id: 107, Name: Michael Brown\n",
      "id: 108, Name: Sunita Sharma\n",
      "id: 109, Name: Chen Wei\n"
     ]
    }
   ],
   "source": [
    "# Task 4: Iterate through the entire array and print only the employee ID and name\n",
    "for row in merged:\n",
    "    print(f'id: {row[0]}, Name: {row[3]}')"
   ]
  },
  {
   "cell_type": "code",
   "execution_count": 18,
   "id": "15a55971-9601-4798-8db6-76c6390fdb79",
   "metadata": {},
   "outputs": [
    {
     "data": {
      "text/plain": [
       "array(['85', '78', '92', '88', '79', '81', '91', '77', '83'], dtype='<U13')"
      ]
     },
     "execution_count": 18,
     "metadata": {},
     "output_type": "execute_result"
    }
   ],
   "source": [
    "# Task 5: Print the performance score of all the employees\n",
    "merged[:,5]"
   ]
  },
  {
   "cell_type": "code",
   "execution_count": 19,
   "id": "3d505349-5eac-413f-9f12-3d89fbb3b1c7",
   "metadata": {},
   "outputs": [
    {
     "data": {
      "text/plain": [
       "array([85., 78., 92., 88., 79., 81., 91., 77., 83.])"
      ]
     },
     "execution_count": 19,
     "metadata": {},
     "output_type": "execute_result"
    }
   ],
   "source": [
    "# Task 6: Convert these scores to float type by using astype(float) function\n",
    "merged[:,5].astype(float)"
   ]
  },
  {
   "cell_type": "code",
   "execution_count": 26,
   "id": "47dc6033-7914-4019-a0d1-7df407452fd7",
   "metadata": {},
   "outputs": [
    {
     "data": {
      "text/plain": [
       "83.77777777777777"
      ]
     },
     "execution_count": 26,
     "metadata": {},
     "output_type": "execute_result"
    }
   ],
   "source": [
    "# Task 7: Now print the average performance score of all the employees'\n",
    "np.mean(merged[:,5].astype(float))"
   ]
  },
  {
   "cell_type": "code",
   "execution_count": 27,
   "id": "e398cad7-4fa7-454d-8563-4f75fa5608c4",
   "metadata": {},
   "outputs": [
    {
     "data": {
      "text/plain": [
       "array(['Sales', 'HR', 'IT', 'Sales', 'IT', 'HR', 'IT', 'Sales', 'HR'],\n",
       "      dtype='<U13')"
      ]
     },
     "execution_count": 27,
     "metadata": {},
     "output_type": "execute_result"
    }
   ],
   "source": [
    "# Task 8: Print all the unique departments. You can use np.unique function for this\n",
    "merged[:,1]"
   ]
  },
  {
   "cell_type": "code",
   "execution_count": 28,
   "id": "abe7c773-cb19-4fff-936b-510ce0a0ce16",
   "metadata": {},
   "outputs": [
    {
     "data": {
      "text/plain": [
       "array(['HR', 'IT', 'Sales'], dtype='<U13')"
      ]
     },
     "execution_count": 28,
     "metadata": {},
     "output_type": "execute_result"
    }
   ],
   "source": [
    "np.unique(merged[:,1])"
   ]
  },
  {
   "cell_type": "code",
   "execution_count": 29,
   "id": "4e4fd2ec-aecb-4cf2-902b-78a6a285d81e",
   "metadata": {},
   "outputs": [
    {
     "data": {
      "text/plain": [
       "array([['102', 'HR', '52000', 'Emily Johnson', '102', '78', '3'],\n",
       "       ['106', 'HR', '54000', 'Li Wei', '106', '81', '5'],\n",
       "       ['109', 'HR', '53000', 'Chen Wei', '109', '83', '4']], dtype='<U13')"
      ]
     },
     "execution_count": 29,
     "metadata": {},
     "output_type": "execute_result"
    }
   ],
   "source": [
    "# Task 9: Print the average salary in the HR department\n",
    "merged[merged[:,1]=='HR']\n"
   ]
  },
  {
   "cell_type": "code",
   "execution_count": 30,
   "id": "5d7f9611-de60-4bec-8552-6ffa116fecf8",
   "metadata": {},
   "outputs": [
    {
     "data": {
      "text/plain": [
       "array([52000., 54000., 53000.])"
      ]
     },
     "execution_count": 30,
     "metadata": {},
     "output_type": "execute_result"
    }
   ],
   "source": [
    "merged[merged[:,1]=='HR'][:,2].astype(float)"
   ]
  },
  {
   "cell_type": "code",
   "execution_count": 31,
   "id": "1ac00427-580c-416f-9499-4b2ca45c0b57",
   "metadata": {},
   "outputs": [
    {
     "data": {
      "text/plain": [
       "53000.0"
      ]
     },
     "execution_count": 31,
     "metadata": {},
     "output_type": "execute_result"
    }
   ],
   "source": [
    "np.average(merged[merged[:,1]=='HR'][:,2].astype(float))"
   ]
  },
  {
   "cell_type": "code",
   "execution_count": null,
   "id": "857e0c98-2a83-4dc4-8688-82f8a0f0f0a6",
   "metadata": {},
   "outputs": [],
   "source": []
  }
 ],
 "metadata": {
  "kernelspec": {
   "display_name": "Python 3 (ipykernel)",
   "language": "python",
   "name": "python3"
  },
  "language_info": {
   "codemirror_mode": {
    "name": "ipython",
    "version": 3
   },
   "file_extension": ".py",
   "mimetype": "text/x-python",
   "name": "python",
   "nbconvert_exporter": "python",
   "pygments_lexer": "ipython3",
   "version": "3.12.2"
  }
 },
 "nbformat": 4,
 "nbformat_minor": 5
}
